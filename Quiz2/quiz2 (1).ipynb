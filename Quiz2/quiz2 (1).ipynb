{
 "cells": [
  {
   "cell_type": "code",
   "execution_count": 53,
   "metadata": {},
   "outputs": [],
   "source": [
    "#This will not run on online IDE\n",
    "import requests\n",
    "from bs4 import BeautifulSoup\n",
    " \n",
    "\n",
    "#url = \"http://www.values.com/inspirational-quotes\"\n",
    "# send request to download the data\n",
    "#response = requests.request(\"GET\", url)\n",
    "\n",
    "with open(\"C:/Users/Musad/Desktop/datascience/index.html\") as fp:\n",
    "    data = BeautifulSoup(fp, 'html.parser')\n",
    "\n",
    "# parse the downloaded data\n",
    "#data = BeautifulSoup(response.text, 'html.parser')\n",
    "#print(data)"
   ]
  },
  {
   "cell_type": "code",
   "execution_count": 54,
   "metadata": {},
   "outputs": [
    {
     "name": "stdout",
     "output_type": "stream",
     "text": [
      "Total Number of Cards Found :  2\n"
     ]
    }
   ],
   "source": [
    "# find all the sections with specifiedd class name\n",
    "cards_data = data.find_all('div', attrs={'class', 'card-content'})\n",
    "# total number of cards\n",
    "print('Total Number of Cards Found : ', len(cards_data))"
   ]
  },
  {
   "cell_type": "code",
   "execution_count": 50,
   "metadata": {},
   "outputs": [
    {
     "name": "stdout",
     "output_type": "stream",
     "text": [
      "Senior Python Developer\n",
      "Senior Python Developer\n"
     ]
    }
   ],
   "source": [
    "for i in cards_data:\n",
    "    title_data = i.find('h2', attrs={'class', 'title is-5'})\n",
    "    print(title_data.text)"
   ]
  },
  {
   "cell_type": "code",
   "execution_count": 51,
   "metadata": {},
   "outputs": [
    {
     "name": "stdout",
     "output_type": "stream",
     "text": [
      "Payne, Roberts and Davis\n",
      "\n",
      "Payne, Roberts and Davis\n",
      "\n"
     ]
    }
   ],
   "source": [
    "for i in cards_data:\n",
    "    title_data = i.find('h2', attrs={'class', 'company'})\n",
    "    print(title_data.text)"
   ]
  },
  {
   "cell_type": "code",
   "execution_count": 61,
   "metadata": {},
   "outputs": [
    {
     "name": "stdout",
     "output_type": "stream",
     "text": [
      "<a href=\"https://realpython.github.io/fake-jobs/jobs/senior-python-developer-0.html\">Apply</a>\n",
      "<a href=\"https://realpython.github.io/fake-jobs/jobs/senior-python-developer-0.html\">Apply</a>\n"
     ]
    }
   ],
   "source": [
    "links = data.find_all('a')\n",
    "for i in links:\n",
    "    if i.text == \"Apply\":\n",
    "        print(i)"
   ]
  },
  {
   "cell_type": "code",
   "execution_count": null,
   "metadata": {},
   "outputs": [],
   "source": []
  }
 ],
 "metadata": {
  "kernelspec": {
   "display_name": "Python 3",
   "language": "python",
   "name": "python3"
  },
  "language_info": {
   "codemirror_mode": {
    "name": "ipython",
    "version": 3
   },
   "file_extension": ".py",
   "mimetype": "text/x-python",
   "name": "python",
   "nbconvert_exporter": "python",
   "pygments_lexer": "ipython3",
   "version": "3.7.3"
  }
 },
 "nbformat": 4,
 "nbformat_minor": 2
}
